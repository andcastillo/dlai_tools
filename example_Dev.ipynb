{
 "cells": [
  {
   "cell_type": "markdown",
   "metadata": {
    "colab_type": "text",
    "id": "C7oVbe_pLr3C"
   },
   "source": [
    "# Notebook example\n",
    "\n",
    "We start with a full notebook"
   ]
  },
  {
   "cell_type": "code",
   "execution_count": 30,
   "metadata": {
    "colab": {
     "base_uri": "https://localhost:8080/",
     "height": 216
    },
    "colab_type": "code",
    "id": "JEY_jlQQR9SP",
    "outputId": "ca2de661-10c8-4a04-d5ba-2f2ed42e0015",
    "scrolled": true
   },
   "outputs": [],
   "source": [
    "import numpy as np"
   ]
  },
  {
   "cell_type": "markdown",
   "metadata": {
    "colab_type": "text",
    "id": "_PpjG5MuLr3F"
   },
   "source": [
    "## Graded assignment\n",
    "\n",
    "We must have 3 parts for each assignment. \n",
    "* @ASSIGNMENT: The function with the expected solution\n",
    "* @SOLUTION: The codel cell with some missing lines.\n",
    "* @UNIT_TEST: A set of unit tests that must pass with the function contained in @ASSIGNMENT"
   ]
  },
  {
   "cell_type": "code",
   "execution_count": 35,
   "metadata": {},
   "outputs": [],
   "source": [
    "# @SOLUTION\n",
    "\n",
    "# GRADED FUNCTION: foo\n",
    "\n",
    "def foo(x, y, scale):\n",
    "    '''\n",
    "      Input: \n",
    "        x (np.array): (1 x n) The x part\n",
    "        y (np.array): (1 x n) The y part\n",
    "        scale (float): The scale value\n",
    "      Output:\n",
    "        (np.ndarray): (2 x n) the output [x * scale, y / scale]\n",
    "    '''\n",
    "    x2 = x * scale\n",
    "\n",
    "    ### START CODE HERE ###\n",
    "    y2 = y / scale\n",
    "    result = np.array([x2, y2])\n",
    "    ### END CODE HERE ###\n",
    "    return result"
   ]
  },
  {
   "cell_type": "code",
   "execution_count": 8,
   "metadata": {},
   "outputs": [],
   "source": [
    "# @ASSIGNMENT\n",
    "\n",
    "# GRADED FUNCTION: foo\n",
    "\n",
    "def foo(x, y, scale):\n",
    "    '''\n",
    "      Input: \n",
    "        x (np.array): (1 x n) The x part\n",
    "        y (np.array): (1 x n) The y part\n",
    "        scale (float): The scale value\n",
    "      Output:\n",
    "        (np.ndarray): (2 x n) the output [x * scale, y / scale]\n",
    "    '''\n",
    "    x2 = x * scale\n",
    "\n",
    "    ### START CODE HERE ###\n",
    "    y2 = None\n",
    "    result = None\n",
    "    ### END CODE HERE ###\n",
    "    return result"
   ]
  },
  {
   "cell_type": "code",
   "execution_count": 54,
   "metadata": {
    "tags": []
   },
   "outputs": [
    {
     "output_type": "stream",
     "name": "stdout",
     "text": "\u001b[92m All tests passed\n"
    }
   ],
   "source": [
    "# @UNIT_TEST\n",
    "# test foo\n",
    "def test_foo():\n",
    "    target = foo\n",
    "    test_cases = [\n",
    "        {\n",
    "            \"name\": \"equ_output_check\",\n",
    "            \"input\": [np.array([1, 2, 3]), np.array([4, 6, 8]), 2],\n",
    "            \"expected\": np.array([np.array([1, 2, 3]) * 2, np.array([4, 6, 8]) / 2]),\n",
    "            \"error\": \"Wrong output 1\"\n",
    "        },\n",
    "        {\n",
    "            \"name\": \"equ_output_check\",\n",
    "            \"input\": [np.array([0, 4, 2]), np.array([1, 1, 1]), 3],\n",
    "            \"expected\": np.array([np.array([0, 4, 2]) * 3, np.array([1, 1, 1]) / 3]),\n",
    "            \"error\": \"Wrong output 2\"\n",
    "        },  \n",
    "        {\n",
    "            \"name\":\"datatype_check\",\n",
    "            \"input\":[np.array([1, 2, 3]), np.array([4, 6, 8]), 2],\n",
    "            \"expected\":np.ndarray,\n",
    "            \"error\":\"Datatype mismatch\"\n",
    "        }\n",
    "        \n",
    "    ]\n",
    "    success = 0\n",
    "    fails = 0\n",
    "    for test_case in test_cases:\n",
    "        try:\n",
    "            if test_case['name'] == \"equ_output_check\":\n",
    "                assert np.allclose(test_case[\"expected\"], target(*test_case['input']))\n",
    "                success += 1\n",
    "            if test_case['name'] == \"datatype_check\":\n",
    "                assert isinstance(target(*test_case['input']), test_case[\"expected\"])\n",
    "                success += 1\n",
    "        except:\n",
    "            fails += 1\n",
    "            print(test_case['error'])\n",
    "        \n",
    "    if fails == 0:\n",
    "        print(\"\\033[92m All tests passed\")\n",
    "    else:\n",
    "        print('\\033[92m', success,\" Tests passed\")\n",
    "        print('\\033[91m', fails, \" Tests failed\")\n",
    "test_foo() "
   ]
  },
  {
   "cell_type": "markdown",
   "metadata": {},
   "source": [
    "## Congratulations.\n",
    "\n",
    "You have finished this assignment!!"
   ]
  }
 ],
 "metadata": {
  "accelerator": "GPU",
  "colab": {
   "collapsed_sections": [],
   "name": "NER assignment.ipynb",
   "provenance": [],
   "toc_visible": true
  },
  "kernelspec": {
   "display_name": "Python 3",
   "language": "python",
   "name": "python3"
  },
  "language_info": {
   "codemirror_mode": {
    "name": "ipython",
    "version": 3
   },
   "file_extension": ".py",
   "mimetype": "text/x-python",
   "name": "python",
   "nbconvert_exporter": "python",
   "pygments_lexer": "ipython3",
   "version": "3.7.6-final"
  }
 },
 "nbformat": 4,
 "nbformat_minor": 4
}